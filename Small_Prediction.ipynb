{
 "cells": [
  {
   "cell_type": "code",
   "execution_count": 80,
   "id": "a6bd39ad",
   "metadata": {},
   "outputs": [
    {
     "name": "stderr",
     "output_type": "stream",
     "text": [
      "[nltk_data] Downloading package stopwords to\n",
      "[nltk_data]     C:\\Users\\tania\\AppData\\Roaming\\nltk_data...\n",
      "[nltk_data]   Package stopwords is already up-to-date!\n"
     ]
    }
   ],
   "source": [
    "\n",
    "import pandas as pd\n",
    "import numpy as np\n",
    "import seaborn as sns\n",
    "import matplotlib.pyplot as plt\n",
    "from sklearn.model_selection import train_test_split\n",
    "from sklearn.metrics import accuracy_score\n",
    "from sklearn.metrics import classification_report\n",
    "import re\n",
    "import string\n",
    "\n",
    "\n",
    "import tweepy\n",
    "import pickle\n",
    "import nltk\n",
    "nltk.download('stopwords')\n",
    "from nltk.corpus import stopwords\n",
    "from nltk.stem.porter import PorterStemmer\n",
    "from sklearn.feature_extraction.text import TfidfVectorizer\n",
    "import twitter\n",
    "import matplotlib.pyplot as plt\n",
    "%matplotlib inline\n",
    "from nltk.stem.porter import PorterStemmer\n",
    "from nltk.corpus import stopwords\n",
    "import warnings\n",
    "warnings.filterwarnings('ignore')"
   ]
  },
  {
   "cell_type": "code",
   "execution_count": 81,
   "id": "ee626057",
   "metadata": {
    "scrolled": false
   },
   "outputs": [
    {
     "data": {
      "text/html": [
       "<div>\n",
       "<style scoped>\n",
       "    .dataframe tbody tr th:only-of-type {\n",
       "        vertical-align: middle;\n",
       "    }\n",
       "\n",
       "    .dataframe tbody tr th {\n",
       "        vertical-align: top;\n",
       "    }\n",
       "\n",
       "    .dataframe thead th {\n",
       "        text-align: right;\n",
       "    }\n",
       "</style>\n",
       "<table border=\"1\" class=\"dataframe\">\n",
       "  <thead>\n",
       "    <tr style=\"text-align: right;\">\n",
       "      <th></th>\n",
       "      <th>topic</th>\n",
       "      <th>text</th>\n",
       "      <th>headline</th>\n",
       "      <th>words_h</th>\n",
       "      <th>word_size_h</th>\n",
       "      <th>avg_syllables_word_h</th>\n",
       "      <th>unique_words_h</th>\n",
       "      <th>ttr_h</th>\n",
       "      <th>mltd_h</th>\n",
       "      <th>sents</th>\n",
       "      <th>...</th>\n",
       "      <th>propn_ratio</th>\n",
       "      <th>noun_ratio</th>\n",
       "      <th>adp_ratio</th>\n",
       "      <th>det_ratio</th>\n",
       "      <th>punct_ratio</th>\n",
       "      <th>pron_ratio</th>\n",
       "      <th>verb_ratio</th>\n",
       "      <th>adv_ratio</th>\n",
       "      <th>sym_ratio</th>\n",
       "      <th>label</th>\n",
       "    </tr>\n",
       "  </thead>\n",
       "  <tbody>\n",
       "    <tr>\n",
       "      <th>0</th>\n",
       "      <td>Science</td>\n",
       "      <td>la nasa recupera el contacto con un satélite d...</td>\n",
       "      <td>la nasa recupera el contacto con un satélite d...</td>\n",
       "      <td>16</td>\n",
       "      <td>538</td>\n",
       "      <td>25</td>\n",
       "      <td>875</td>\n",
       "      <td>9375</td>\n",
       "      <td>7168</td>\n",
       "      <td>16</td>\n",
       "      <td>...</td>\n",
       "      <td>48</td>\n",
       "      <td>2443</td>\n",
       "      <td>1775</td>\n",
       "      <td>1566</td>\n",
       "      <td>71</td>\n",
       "      <td>167</td>\n",
       "      <td>835</td>\n",
       "      <td>313</td>\n",
       "      <td>0</td>\n",
       "      <td>1</td>\n",
       "    </tr>\n",
       "    <tr>\n",
       "      <th>1</th>\n",
       "      <td>Economy</td>\n",
       "      <td>amlo aceleraría el consumo y el crecimiento ec...</td>\n",
       "      <td>amlo aceleraría el consumo y el crecimiento ec...</td>\n",
       "      <td>11</td>\n",
       "      <td>527</td>\n",
       "      <td>255</td>\n",
       "      <td>8182</td>\n",
       "      <td>9091</td>\n",
       "      <td>3388</td>\n",
       "      <td>5</td>\n",
       "      <td>...</td>\n",
       "      <td>922</td>\n",
       "      <td>2282</td>\n",
       "      <td>1553</td>\n",
       "      <td>165</td>\n",
       "      <td>1117</td>\n",
       "      <td>49</td>\n",
       "      <td>631</td>\n",
       "      <td>97</td>\n",
       "      <td>0</td>\n",
       "      <td>1</td>\n",
       "    </tr>\n",
       "    <tr>\n",
       "      <th>2</th>\n",
       "      <td>Sport</td>\n",
       "      <td>al borde de un colapso nervioso quedó el hábil...</td>\n",
       "      <td>compañero de james se calvea y le juega pesa...</td>\n",
       "      <td>12</td>\n",
       "      <td>375</td>\n",
       "      <td>167</td>\n",
       "      <td>1000</td>\n",
       "      <td>1000</td>\n",
       "      <td>0</td>\n",
       "      <td>13</td>\n",
       "      <td>...</td>\n",
       "      <td>734</td>\n",
       "      <td>1658</td>\n",
       "      <td>1522</td>\n",
       "      <td>1332</td>\n",
       "      <td>1304</td>\n",
       "      <td>435</td>\n",
       "      <td>815</td>\n",
       "      <td>353</td>\n",
       "      <td>54</td>\n",
       "      <td>0</td>\n",
       "    </tr>\n",
       "    <tr>\n",
       "      <th>3</th>\n",
       "      <td>Politics</td>\n",
       "      <td>mediante pupitrazo de último minuto anoche, el...</td>\n",
       "      <td>dian gravará este año a los niños que recojan ...</td>\n",
       "      <td>12</td>\n",
       "      <td>458</td>\n",
       "      <td>192</td>\n",
       "      <td>1000</td>\n",
       "      <td>1000</td>\n",
       "      <td>0</td>\n",
       "      <td>8</td>\n",
       "      <td>...</td>\n",
       "      <td>223</td>\n",
       "      <td>223</td>\n",
       "      <td>1933</td>\n",
       "      <td>1524</td>\n",
       "      <td>1004</td>\n",
       "      <td>74</td>\n",
       "      <td>669</td>\n",
       "      <td>335</td>\n",
       "      <td>0</td>\n",
       "      <td>0</td>\n",
       "    </tr>\n",
       "    <tr>\n",
       "      <th>4</th>\n",
       "      <td>Politics</td>\n",
       "      <td>muy temprano esta mañana el expresidente y aho...</td>\n",
       "      <td>uribe asegura que insultó 358 guerrilleros</td>\n",
       "      <td>6</td>\n",
       "      <td>617</td>\n",
       "      <td>25</td>\n",
       "      <td>1000</td>\n",
       "      <td>1000</td>\n",
       "      <td>0</td>\n",
       "      <td>9</td>\n",
       "      <td>...</td>\n",
       "      <td>577</td>\n",
       "      <td>1731</td>\n",
       "      <td>846</td>\n",
       "      <td>1077</td>\n",
       "      <td>200</td>\n",
       "      <td>538</td>\n",
       "      <td>1038</td>\n",
       "      <td>50</td>\n",
       "      <td>77</td>\n",
       "      <td>0</td>\n",
       "    </tr>\n",
       "  </tbody>\n",
       "</table>\n",
       "<p>5 rows × 33 columns</p>\n",
       "</div>"
      ],
      "text/plain": [
       "      topic                                               text  \\\n",
       "0   Science  la nasa recupera el contacto con un satélite d...   \n",
       "1   Economy  amlo aceleraría el consumo y el crecimiento ec...   \n",
       "2     Sport  al borde de un colapso nervioso quedó el hábil...   \n",
       "3  Politics  mediante pupitrazo de último minuto anoche, el...   \n",
       "4  Politics  muy temprano esta mañana el expresidente y aho...   \n",
       "\n",
       "                                            headline  words_h  word_size_h  \\\n",
       "0  la nasa recupera el contacto con un satélite d...       16          538   \n",
       "1  amlo aceleraría el consumo y el crecimiento ec...       11          527   \n",
       "2  compañero de james se calvea y le juega pesa...       12          375   \n",
       "3  dian gravará este año a los niños que recojan ...       12          458   \n",
       "4         uribe asegura que insultó 358 guerrilleros        6          617   \n",
       "\n",
       "   avg_syllables_word_h  unique_words_h  ttr_h  mltd_h  sents  ...  \\\n",
       "0                    25             875   9375    7168     16  ...   \n",
       "1                   255            8182   9091    3388      5  ...   \n",
       "2                   167            1000   1000       0     13  ...   \n",
       "3                   192            1000   1000       0      8  ...   \n",
       "4                    25            1000   1000       0      9  ...   \n",
       "\n",
       "   propn_ratio  noun_ratio  adp_ratio  det_ratio  punct_ratio  pron_ratio  \\\n",
       "0           48        2443       1775       1566           71         167   \n",
       "1          922        2282       1553        165         1117          49   \n",
       "2          734        1658       1522       1332         1304         435   \n",
       "3          223         223       1933       1524         1004          74   \n",
       "4          577        1731        846       1077          200         538   \n",
       "\n",
       "   verb_ratio  adv_ratio  sym_ratio  label  \n",
       "0         835        313          0      1  \n",
       "1         631         97          0      1  \n",
       "2         815        353         54      0  \n",
       "3         669        335          0      0  \n",
       "4        1038         50         77      0  \n",
       "\n",
       "[5 rows x 33 columns]"
      ]
     },
     "execution_count": 81,
     "metadata": {},
     "output_type": "execute_result"
    }
   ],
   "source": [
    "# Data from TFM_fake_news github\n",
    "dfpredict = pd.read_csv(\"Map1.csv\",encoding= 'unicode_escape', sep=\";\")\n",
    "dfpredict.head()"
   ]
  },
  {
   "cell_type": "code",
   "execution_count": 82,
   "id": "d46fc69e",
   "metadata": {
    "scrolled": false
   },
   "outputs": [
    {
     "data": {
      "text/html": [
       "<div>\n",
       "<style scoped>\n",
       "    .dataframe tbody tr th:only-of-type {\n",
       "        vertical-align: middle;\n",
       "    }\n",
       "\n",
       "    .dataframe tbody tr th {\n",
       "        vertical-align: top;\n",
       "    }\n",
       "\n",
       "    .dataframe thead th {\n",
       "        text-align: right;\n",
       "    }\n",
       "</style>\n",
       "<table border=\"1\" class=\"dataframe\">\n",
       "  <thead>\n",
       "    <tr style=\"text-align: right;\">\n",
       "      <th></th>\n",
       "      <th>topic</th>\n",
       "      <th>text</th>\n",
       "      <th>headline</th>\n",
       "      <th>words_h</th>\n",
       "      <th>word_size_h</th>\n",
       "      <th>avg_syllables_word_h</th>\n",
       "      <th>unique_words_h</th>\n",
       "      <th>ttr_h</th>\n",
       "      <th>mltd_h</th>\n",
       "      <th>sents</th>\n",
       "      <th>...</th>\n",
       "      <th>propn_ratio</th>\n",
       "      <th>noun_ratio</th>\n",
       "      <th>adp_ratio</th>\n",
       "      <th>det_ratio</th>\n",
       "      <th>punct_ratio</th>\n",
       "      <th>pron_ratio</th>\n",
       "      <th>verb_ratio</th>\n",
       "      <th>adv_ratio</th>\n",
       "      <th>sym_ratio</th>\n",
       "      <th>label</th>\n",
       "    </tr>\n",
       "  </thead>\n",
       "  <tbody>\n",
       "    <tr>\n",
       "      <th>0</th>\n",
       "      <td>Science</td>\n",
       "      <td>la nasa recupera el contacto con un satélite d...</td>\n",
       "      <td>la nasa recupera el contacto con un satélite d...</td>\n",
       "      <td>16</td>\n",
       "      <td>538</td>\n",
       "      <td>25</td>\n",
       "      <td>875</td>\n",
       "      <td>9375</td>\n",
       "      <td>7168</td>\n",
       "      <td>16</td>\n",
       "      <td>...</td>\n",
       "      <td>48</td>\n",
       "      <td>2443</td>\n",
       "      <td>1775</td>\n",
       "      <td>1566</td>\n",
       "      <td>71</td>\n",
       "      <td>167</td>\n",
       "      <td>835</td>\n",
       "      <td>313</td>\n",
       "      <td>0</td>\n",
       "      <td>1</td>\n",
       "    </tr>\n",
       "    <tr>\n",
       "      <th>1</th>\n",
       "      <td>Economy</td>\n",
       "      <td>amlo aceleraría el consumo y el crecimiento ec...</td>\n",
       "      <td>amlo aceleraría el consumo y el crecimiento ec...</td>\n",
       "      <td>11</td>\n",
       "      <td>527</td>\n",
       "      <td>255</td>\n",
       "      <td>8182</td>\n",
       "      <td>9091</td>\n",
       "      <td>3388</td>\n",
       "      <td>5</td>\n",
       "      <td>...</td>\n",
       "      <td>922</td>\n",
       "      <td>2282</td>\n",
       "      <td>1553</td>\n",
       "      <td>165</td>\n",
       "      <td>1117</td>\n",
       "      <td>49</td>\n",
       "      <td>631</td>\n",
       "      <td>97</td>\n",
       "      <td>0</td>\n",
       "      <td>1</td>\n",
       "    </tr>\n",
       "    <tr>\n",
       "      <th>2</th>\n",
       "      <td>Sport</td>\n",
       "      <td>al borde de un colapso nervioso quedó el hábil...</td>\n",
       "      <td>compañero de james se calvea y le juega pesa...</td>\n",
       "      <td>12</td>\n",
       "      <td>375</td>\n",
       "      <td>167</td>\n",
       "      <td>1000</td>\n",
       "      <td>1000</td>\n",
       "      <td>0</td>\n",
       "      <td>13</td>\n",
       "      <td>...</td>\n",
       "      <td>734</td>\n",
       "      <td>1658</td>\n",
       "      <td>1522</td>\n",
       "      <td>1332</td>\n",
       "      <td>1304</td>\n",
       "      <td>435</td>\n",
       "      <td>815</td>\n",
       "      <td>353</td>\n",
       "      <td>54</td>\n",
       "      <td>0</td>\n",
       "    </tr>\n",
       "    <tr>\n",
       "      <th>3</th>\n",
       "      <td>Politics</td>\n",
       "      <td>mediante pupitrazo de último minuto anoche, el...</td>\n",
       "      <td>dian gravará este año a los niños que recojan ...</td>\n",
       "      <td>12</td>\n",
       "      <td>458</td>\n",
       "      <td>192</td>\n",
       "      <td>1000</td>\n",
       "      <td>1000</td>\n",
       "      <td>0</td>\n",
       "      <td>8</td>\n",
       "      <td>...</td>\n",
       "      <td>223</td>\n",
       "      <td>223</td>\n",
       "      <td>1933</td>\n",
       "      <td>1524</td>\n",
       "      <td>1004</td>\n",
       "      <td>74</td>\n",
       "      <td>669</td>\n",
       "      <td>335</td>\n",
       "      <td>0</td>\n",
       "      <td>0</td>\n",
       "    </tr>\n",
       "    <tr>\n",
       "      <th>4</th>\n",
       "      <td>Politics</td>\n",
       "      <td>muy temprano esta mañana el expresidente y aho...</td>\n",
       "      <td>uribe asegura que insultó 358 guerrilleros</td>\n",
       "      <td>6</td>\n",
       "      <td>617</td>\n",
       "      <td>25</td>\n",
       "      <td>1000</td>\n",
       "      <td>1000</td>\n",
       "      <td>0</td>\n",
       "      <td>9</td>\n",
       "      <td>...</td>\n",
       "      <td>577</td>\n",
       "      <td>1731</td>\n",
       "      <td>846</td>\n",
       "      <td>1077</td>\n",
       "      <td>200</td>\n",
       "      <td>538</td>\n",
       "      <td>1038</td>\n",
       "      <td>50</td>\n",
       "      <td>77</td>\n",
       "      <td>0</td>\n",
       "    </tr>\n",
       "    <tr>\n",
       "      <th>...</th>\n",
       "      <td>...</td>\n",
       "      <td>...</td>\n",
       "      <td>...</td>\n",
       "      <td>...</td>\n",
       "      <td>...</td>\n",
       "      <td>...</td>\n",
       "      <td>...</td>\n",
       "      <td>...</td>\n",
       "      <td>...</td>\n",
       "      <td>...</td>\n",
       "      <td>...</td>\n",
       "      <td>...</td>\n",
       "      <td>...</td>\n",
       "      <td>...</td>\n",
       "      <td>...</td>\n",
       "      <td>...</td>\n",
       "      <td>...</td>\n",
       "      <td>...</td>\n",
       "      <td>...</td>\n",
       "      <td>...</td>\n",
       "      <td>...</td>\n",
       "    </tr>\n",
       "    <tr>\n",
       "      <th>495</th>\n",
       "      <td>Politics</td>\n",
       "      <td>el 57% de catalanes cree que puigdemont ganó e...</td>\n",
       "      <td>el 57% de catalanes cree que puigdemont ganó e...</td>\n",
       "      <td>18</td>\n",
       "      <td>428</td>\n",
       "      <td>167</td>\n",
       "      <td>6667</td>\n",
       "      <td>7778</td>\n",
       "      <td>2268</td>\n",
       "      <td>14</td>\n",
       "      <td>...</td>\n",
       "      <td>807</td>\n",
       "      <td>146</td>\n",
       "      <td>1472</td>\n",
       "      <td>1613</td>\n",
       "      <td>1165</td>\n",
       "      <td>218</td>\n",
       "      <td>743</td>\n",
       "      <td>282</td>\n",
       "      <td>0</td>\n",
       "      <td>1</td>\n",
       "    </tr>\n",
       "    <tr>\n",
       "      <th>496</th>\n",
       "      <td>Politics</td>\n",
       "      <td>las fuerzas leales al gobierno de sudán del su...</td>\n",
       "      <td>amnistía acusa a las fuerzas del gobierno surs...</td>\n",
       "      <td>16</td>\n",
       "      <td>469</td>\n",
       "      <td>20</td>\n",
       "      <td>875</td>\n",
       "      <td>9375</td>\n",
       "      <td>7168</td>\n",
       "      <td>28</td>\n",
       "      <td>...</td>\n",
       "      <td>525</td>\n",
       "      <td>2059</td>\n",
       "      <td>1796</td>\n",
       "      <td>1453</td>\n",
       "      <td>106</td>\n",
       "      <td>121</td>\n",
       "      <td>928</td>\n",
       "      <td>242</td>\n",
       "      <td>4</td>\n",
       "      <td>1</td>\n",
       "    </tr>\n",
       "    <tr>\n",
       "      <th>497</th>\n",
       "      <td>Politics</td>\n",
       "      <td>la consejera de fomento del gobierno de castil...</td>\n",
       "      <td>fomento pide \"un cambio de rumbo\" en la políti...</td>\n",
       "      <td>14</td>\n",
       "      <td>393</td>\n",
       "      <td>164</td>\n",
       "      <td>8571</td>\n",
       "      <td>9286</td>\n",
       "      <td>5488</td>\n",
       "      <td>12</td>\n",
       "      <td>...</td>\n",
       "      <td>482</td>\n",
       "      <td>1969</td>\n",
       "      <td>1995</td>\n",
       "      <td>1343</td>\n",
       "      <td>952</td>\n",
       "      <td>196</td>\n",
       "      <td>926</td>\n",
       "      <td>30</td>\n",
       "      <td>0</td>\n",
       "      <td>1</td>\n",
       "    </tr>\n",
       "    <tr>\n",
       "      <th>498</th>\n",
       "      <td>Entertainment</td>\n",
       "      <td>andrea legarreta explota al recordar polémica ...</td>\n",
       "      <td>andrea legarreta explota al recordar polémica ...</td>\n",
       "      <td>8</td>\n",
       "      <td>60</td>\n",
       "      <td>262</td>\n",
       "      <td>1000</td>\n",
       "      <td>1000</td>\n",
       "      <td>0</td>\n",
       "      <td>15</td>\n",
       "      <td>...</td>\n",
       "      <td>439</td>\n",
       "      <td>152</td>\n",
       "      <td>1257</td>\n",
       "      <td>936</td>\n",
       "      <td>1257</td>\n",
       "      <td>906</td>\n",
       "      <td>1667</td>\n",
       "      <td>614</td>\n",
       "      <td>0</td>\n",
       "      <td>1</td>\n",
       "    </tr>\n",
       "    <tr>\n",
       "      <th>499</th>\n",
       "      <td>Sport</td>\n",
       "      <td>31/10/2016 15:57 el entrenador del manchester ...</td>\n",
       "      <td>champions league: pep guardiola no se plantea ...</td>\n",
       "      <td>16</td>\n",
       "      <td>469</td>\n",
       "      <td>156</td>\n",
       "      <td>875</td>\n",
       "      <td>9375</td>\n",
       "      <td>7168</td>\n",
       "      <td>37</td>\n",
       "      <td>...</td>\n",
       "      <td>432</td>\n",
       "      <td>127</td>\n",
       "      <td>1122</td>\n",
       "      <td>925</td>\n",
       "      <td>143</td>\n",
       "      <td>617</td>\n",
       "      <td>1591</td>\n",
       "      <td>58</td>\n",
       "      <td>0</td>\n",
       "      <td>1</td>\n",
       "    </tr>\n",
       "  </tbody>\n",
       "</table>\n",
       "<p>500 rows × 33 columns</p>\n",
       "</div>"
      ],
      "text/plain": [
       "             topic                                               text  \\\n",
       "0          Science  la nasa recupera el contacto con un satélite d...   \n",
       "1          Economy  amlo aceleraría el consumo y el crecimiento ec...   \n",
       "2            Sport  al borde de un colapso nervioso quedó el hábil...   \n",
       "3         Politics  mediante pupitrazo de último minuto anoche, el...   \n",
       "4         Politics  muy temprano esta mañana el expresidente y aho...   \n",
       "..             ...                                                ...   \n",
       "495       Politics  el 57% de catalanes cree que puigdemont ganó e...   \n",
       "496       Politics  las fuerzas leales al gobierno de sudán del su...   \n",
       "497       Politics  la consejera de fomento del gobierno de castil...   \n",
       "498  Entertainment  andrea legarreta explota al recordar polémica ...   \n",
       "499          Sport  31/10/2016 15:57 el entrenador del manchester ...   \n",
       "\n",
       "                                              headline  words_h  word_size_h  \\\n",
       "0    la nasa recupera el contacto con un satélite d...       16          538   \n",
       "1    amlo aceleraría el consumo y el crecimiento ec...       11          527   \n",
       "2    compañero de james se calvea y le juega pesa...       12          375   \n",
       "3    dian gravará este año a los niños que recojan ...       12          458   \n",
       "4           uribe asegura que insultó 358 guerrilleros        6          617   \n",
       "..                                                 ...      ...          ...   \n",
       "495  el 57% de catalanes cree que puigdemont ganó e...       18          428   \n",
       "496  amnistía acusa a las fuerzas del gobierno surs...       16          469   \n",
       "497  fomento pide \"un cambio de rumbo\" en la políti...       14          393   \n",
       "498  andrea legarreta explota al recordar polémica ...        8           60   \n",
       "499  champions league: pep guardiola no se plantea ...       16          469   \n",
       "\n",
       "     avg_syllables_word_h  unique_words_h  ttr_h  mltd_h  sents  ...  \\\n",
       "0                      25             875   9375    7168     16  ...   \n",
       "1                     255            8182   9091    3388      5  ...   \n",
       "2                     167            1000   1000       0     13  ...   \n",
       "3                     192            1000   1000       0      8  ...   \n",
       "4                      25            1000   1000       0      9  ...   \n",
       "..                    ...             ...    ...     ...    ...  ...   \n",
       "495                   167            6667   7778    2268     14  ...   \n",
       "496                    20             875   9375    7168     28  ...   \n",
       "497                   164            8571   9286    5488     12  ...   \n",
       "498                   262            1000   1000       0     15  ...   \n",
       "499                   156             875   9375    7168     37  ...   \n",
       "\n",
       "     propn_ratio  noun_ratio  adp_ratio  det_ratio  punct_ratio  pron_ratio  \\\n",
       "0             48        2443       1775       1566           71         167   \n",
       "1            922        2282       1553        165         1117          49   \n",
       "2            734        1658       1522       1332         1304         435   \n",
       "3            223         223       1933       1524         1004          74   \n",
       "4            577        1731        846       1077          200         538   \n",
       "..           ...         ...        ...        ...          ...         ...   \n",
       "495          807         146       1472       1613         1165         218   \n",
       "496          525        2059       1796       1453          106         121   \n",
       "497          482        1969       1995       1343          952         196   \n",
       "498          439         152       1257        936         1257         906   \n",
       "499          432         127       1122        925          143         617   \n",
       "\n",
       "     verb_ratio  adv_ratio  sym_ratio  label  \n",
       "0           835        313          0      1  \n",
       "1           631         97          0      1  \n",
       "2           815        353         54      0  \n",
       "3           669        335          0      0  \n",
       "4          1038         50         77      0  \n",
       "..          ...        ...        ...    ...  \n",
       "495         743        282          0      1  \n",
       "496         928        242          4      1  \n",
       "497         926         30          0      1  \n",
       "498        1667        614          0      1  \n",
       "499        1591         58          0      1  \n",
       "\n",
       "[500 rows x 33 columns]"
      ]
     },
     "execution_count": 82,
     "metadata": {},
     "output_type": "execute_result"
    }
   ],
   "source": [
    "df1 = dfpredict.iloc[:500]\n",
    "df1"
   ]
  },
  {
   "cell_type": "code",
   "execution_count": 83,
   "id": "2cc1523b",
   "metadata": {},
   "outputs": [],
   "source": [
    "#### Creating a function to convert the text in lowercase, remove the extra space, special chr., ulr and links.\n"
   ]
  },
  {
   "cell_type": "code",
   "execution_count": 84,
   "id": "3d73f79f",
   "metadata": {},
   "outputs": [],
   "source": [
    "def wordopt(text):\n",
    "    text = text.lower()\n",
    "    text = re.sub('\\[.*?\\]', '', text)\n",
    "    text = re.sub(\"\\\\W\",\" \",text) \n",
    "    text = re.sub('https?://\\S+|www\\.\\S+', '', text)\n",
    "    text = re.sub('<.*?>+', '', text)\n",
    "    text = re.sub('[%s]' % re.escape(string.punctuation), '', text)\n",
    "    text = re.sub('\\n', '', text)\n",
    "    text = re.sub('\\w*\\d\\w*', '', text)    \n",
    "    return text"
   ]
  },
  {
   "cell_type": "code",
   "execution_count": 85,
   "id": "e9412df4",
   "metadata": {},
   "outputs": [],
   "source": [
    "dfpredict[\"text\"] = dfpredict[\"text\"].apply(wordopt)"
   ]
  },
  {
   "cell_type": "code",
   "execution_count": 86,
   "id": "2c906e97",
   "metadata": {},
   "outputs": [],
   "source": [
    "x = dfpredict[\"text\"]\n",
    "y = dfpredict[\"label\"]"
   ]
  },
  {
   "cell_type": "code",
   "execution_count": 87,
   "id": "dd04a627",
   "metadata": {},
   "outputs": [],
   "source": [
    "#### Splitting the dataset into training set and testing set. "
   ]
  },
  {
   "cell_type": "code",
   "execution_count": 88,
   "id": "873a0ce9",
   "metadata": {},
   "outputs": [],
   "source": [
    "x_train, x_test, y_train, y_test = train_test_split(x, y, test_size=0.25, random_state= 8)"
   ]
  },
  {
   "cell_type": "code",
   "execution_count": 89,
   "id": "503dc070",
   "metadata": {},
   "outputs": [],
   "source": [
    "#### Convert text to vectors"
   ]
  },
  {
   "cell_type": "code",
   "execution_count": 90,
   "id": "10d58c78",
   "metadata": {},
   "outputs": [],
   "source": [
    "from sklearn.feature_extraction.text import TfidfVectorizer"
   ]
  },
  {
   "cell_type": "code",
   "execution_count": 91,
   "id": "7ecf6d4b",
   "metadata": {},
   "outputs": [],
   "source": [
    "vectorization = TfidfVectorizer()\n",
    "xv_train = vectorization.fit_transform(x_train)\n",
    "xv_test = vectorization.transform(x_test)"
   ]
  },
  {
   "cell_type": "code",
   "execution_count": 92,
   "id": "8b2e74ac",
   "metadata": {},
   "outputs": [],
   "source": [
    "### 1. Logistic Regression"
   ]
  },
  {
   "cell_type": "code",
   "execution_count": 93,
   "id": "1c9ff94c",
   "metadata": {},
   "outputs": [],
   "source": [
    "from sklearn.linear_model import LogisticRegression"
   ]
  },
  {
   "cell_type": "code",
   "execution_count": 94,
   "id": "3e65c34d",
   "metadata": {},
   "outputs": [
    {
     "data": {
      "text/plain": [
       "LogisticRegression()"
      ]
     },
     "execution_count": 94,
     "metadata": {},
     "output_type": "execute_result"
    }
   ],
   "source": [
    "LR = LogisticRegression()\n",
    "LR.fit(xv_train,y_train)"
   ]
  },
  {
   "cell_type": "code",
   "execution_count": 95,
   "id": "ea6c527c",
   "metadata": {},
   "outputs": [],
   "source": [
    "pred_lr=LR.predict(xv_test)"
   ]
  },
  {
   "cell_type": "code",
   "execution_count": 96,
   "id": "3fd727fc",
   "metadata": {},
   "outputs": [
    {
     "data": {
      "text/plain": [
       "0.9195278969957081"
      ]
     },
     "execution_count": 96,
     "metadata": {},
     "output_type": "execute_result"
    }
   ],
   "source": [
    "LR.score(xv_test, y_test)"
   ]
  },
  {
   "cell_type": "code",
   "execution_count": 97,
   "id": "9ffb37cd",
   "metadata": {},
   "outputs": [
    {
     "name": "stdout",
     "output_type": "stream",
     "text": [
      "              precision    recall  f1-score   support\n",
      "\n",
      "           0       0.92      0.92      0.92       471\n",
      "           1       0.92      0.92      0.92       461\n",
      "\n",
      "    accuracy                           0.92       932\n",
      "   macro avg       0.92      0.92      0.92       932\n",
      "weighted avg       0.92      0.92      0.92       932\n",
      "\n"
     ]
    }
   ],
   "source": [
    "print(classification_report(y_test, pred_lr))"
   ]
  },
  {
   "cell_type": "code",
   "execution_count": 98,
   "id": "156f4999",
   "metadata": {},
   "outputs": [],
   "source": [
    "### 2. Decision Tree Classification"
   ]
  },
  {
   "cell_type": "code",
   "execution_count": 99,
   "id": "d0431ede",
   "metadata": {},
   "outputs": [],
   "source": [
    "from sklearn.tree import DecisionTreeClassifier"
   ]
  },
  {
   "cell_type": "code",
   "execution_count": 100,
   "id": "d7f4e9d3",
   "metadata": {},
   "outputs": [
    {
     "data": {
      "text/plain": [
       "DecisionTreeClassifier()"
      ]
     },
     "execution_count": 100,
     "metadata": {},
     "output_type": "execute_result"
    }
   ],
   "source": [
    "DT = DecisionTreeClassifier()\n",
    "DT.fit(xv_train, y_train)"
   ]
  },
  {
   "cell_type": "code",
   "execution_count": 101,
   "id": "5f4a8a70",
   "metadata": {},
   "outputs": [],
   "source": [
    "pred_dt = DT.predict(xv_test)"
   ]
  },
  {
   "cell_type": "code",
   "execution_count": 102,
   "id": "f907c918",
   "metadata": {},
   "outputs": [
    {
     "data": {
      "text/plain": [
       "0.8969957081545065"
      ]
     },
     "execution_count": 102,
     "metadata": {},
     "output_type": "execute_result"
    }
   ],
   "source": [
    "DT.score(xv_test, y_test)"
   ]
  },
  {
   "cell_type": "code",
   "execution_count": 103,
   "id": "8a524520",
   "metadata": {},
   "outputs": [
    {
     "name": "stdout",
     "output_type": "stream",
     "text": [
      "              precision    recall  f1-score   support\n",
      "\n",
      "           0       0.90      0.89      0.90       471\n",
      "           1       0.89      0.90      0.90       461\n",
      "\n",
      "    accuracy                           0.90       932\n",
      "   macro avg       0.90      0.90      0.90       932\n",
      "weighted avg       0.90      0.90      0.90       932\n",
      "\n"
     ]
    }
   ],
   "source": [
    "print(classification_report(y_test, pred_dt))"
   ]
  },
  {
   "cell_type": "code",
   "execution_count": 104,
   "id": "17b617f6",
   "metadata": {},
   "outputs": [],
   "source": [
    "### 3. Gradient Boosting Classifier"
   ]
  },
  {
   "cell_type": "code",
   "execution_count": 105,
   "id": "497bc8c1",
   "metadata": {},
   "outputs": [],
   "source": [
    "from sklearn.ensemble import GradientBoostingClassifier"
   ]
  },
  {
   "cell_type": "code",
   "execution_count": 106,
   "id": "e3c7a36c",
   "metadata": {},
   "outputs": [
    {
     "data": {
      "text/plain": [
       "GradientBoostingClassifier(random_state=0)"
      ]
     },
     "execution_count": 106,
     "metadata": {},
     "output_type": "execute_result"
    }
   ],
   "source": [
    "GBC = GradientBoostingClassifier(random_state=0)\n",
    "GBC.fit(xv_train, y_train)"
   ]
  },
  {
   "cell_type": "code",
   "execution_count": 107,
   "id": "1e202f0e",
   "metadata": {},
   "outputs": [],
   "source": [
    "pred_gbc = GBC.predict(xv_test)"
   ]
  },
  {
   "cell_type": "code",
   "execution_count": 108,
   "id": "954417d6",
   "metadata": {},
   "outputs": [
    {
     "data": {
      "text/plain": [
       "0.944206008583691"
      ]
     },
     "execution_count": 108,
     "metadata": {},
     "output_type": "execute_result"
    }
   ],
   "source": [
    "GBC.score(xv_test, y_test)"
   ]
  },
  {
   "cell_type": "code",
   "execution_count": 109,
   "id": "da085352",
   "metadata": {},
   "outputs": [
    {
     "name": "stdout",
     "output_type": "stream",
     "text": [
      "              precision    recall  f1-score   support\n",
      "\n",
      "           0       0.97      0.92      0.94       471\n",
      "           1       0.92      0.97      0.95       461\n",
      "\n",
      "    accuracy                           0.94       932\n",
      "   macro avg       0.95      0.94      0.94       932\n",
      "weighted avg       0.95      0.94      0.94       932\n",
      "\n"
     ]
    }
   ],
   "source": [
    "print(classification_report(y_test, pred_gbc))"
   ]
  },
  {
   "cell_type": "code",
   "execution_count": 110,
   "id": "3cc3c40e",
   "metadata": {},
   "outputs": [],
   "source": [
    "### 4. Random Forest Classifier"
   ]
  },
  {
   "cell_type": "code",
   "execution_count": 111,
   "id": "9f0ee2b4",
   "metadata": {},
   "outputs": [],
   "source": [
    "from sklearn.ensemble import RandomForestClassifier"
   ]
  },
  {
   "cell_type": "code",
   "execution_count": 112,
   "id": "7f1ac811",
   "metadata": {},
   "outputs": [
    {
     "data": {
      "text/plain": [
       "RandomForestClassifier(random_state=0)"
      ]
     },
     "execution_count": 112,
     "metadata": {},
     "output_type": "execute_result"
    }
   ],
   "source": [
    "RFC = RandomForestClassifier(random_state=0)\n",
    "RFC.fit(xv_train, y_train)"
   ]
  },
  {
   "cell_type": "code",
   "execution_count": 113,
   "id": "d661fe63",
   "metadata": {},
   "outputs": [],
   "source": [
    "pred_rfc = RFC.predict(xv_test)"
   ]
  },
  {
   "cell_type": "code",
   "execution_count": 114,
   "id": "65fdcb32",
   "metadata": {},
   "outputs": [
    {
     "data": {
      "text/plain": [
       "0.9495708154506438"
      ]
     },
     "execution_count": 114,
     "metadata": {},
     "output_type": "execute_result"
    }
   ],
   "source": [
    "RFC.score(xv_test, y_test)"
   ]
  },
  {
   "cell_type": "code",
   "execution_count": 115,
   "id": "44a79c0b",
   "metadata": {},
   "outputs": [
    {
     "name": "stdout",
     "output_type": "stream",
     "text": [
      "              precision    recall  f1-score   support\n",
      "\n",
      "           0       0.93      0.97      0.95       471\n",
      "           1       0.97      0.93      0.95       461\n",
      "\n",
      "    accuracy                           0.95       932\n",
      "   macro avg       0.95      0.95      0.95       932\n",
      "weighted avg       0.95      0.95      0.95       932\n",
      "\n"
     ]
    }
   ],
   "source": [
    "print(classification_report(y_test, pred_rfc))"
   ]
  },
  {
   "cell_type": "code",
   "execution_count": 116,
   "id": "f4a92395",
   "metadata": {},
   "outputs": [],
   "source": [
    "# Model Testing With Manual Entry\n",
    "\n",
    "### News"
   ]
  },
  {
   "cell_type": "code",
   "execution_count": 117,
   "id": "2f59a9aa",
   "metadata": {},
   "outputs": [],
   "source": [
    "import pyttsx3 \n",
    "s = pyttsx3.init()\n",
    "data = \"Fake New\"\n",
    "data1 = \"Not A Fake New\"  \n",
    "def output_lable(n):\n",
    "    if n == 0:\n",
    "        \n",
    "        s.say(data)  \n",
    "        s.runAndWait()\n",
    "        return \"Fake News\"\n",
    "    elif n == 1:\n",
    "             \n",
    "        s.say(data1)  \n",
    "        s.runAndWait() \n",
    "        return \"Not A Fake News\"\n",
    "    \n",
    "def manual_testing(news):\n",
    "    testing_news = {\"text\":[news]}\n",
    "    new_def_test = pd.DataFrame(testing_news)\n",
    "    new_def_test[\"text\"] = new_def_test[\"text\"].apply(wordopt) \n",
    "    new_x_test = new_def_test[\"text\"]\n",
    "    new_xv_test = vectorization.transform(new_x_test)\n",
    "    pred_LR = LR.predict(new_xv_test)\n",
    "    pred_DT = DT.predict(new_xv_test)\n",
    "    pred_GBC = GBC.predict(new_xv_test)\n",
    "    pred_RFC = RFC.predict(new_xv_test)\n",
    "    return print(\"\\n\\nLR Prediction: {} \\nDT Prediction: {} \\nGBC Prediction: {} \\nRFC Prediction: {}\".format(output_lable(pred_LR[0]), \n",
    "                                                                                                              output_lable(pred_DT[0]), \n",
    "                                                                                                              output_lable(pred_GBC[0]), \n",
    "                                                                                                              output_lable(pred_RFC[0])))\n",
    "    \n",
    "                               "
   ]
  },
  {
   "cell_type": "code",
   "execution_count": 119,
   "id": "b985723c",
   "metadata": {},
   "outputs": [
    {
     "name": "stdout",
     "output_type": "stream",
     "text": [
      "está demostrado que el único  narco estado  fue el régimen que asaltó el poder con el golpe de estado  la derecha mentirosa  famosa por sus  narcovínculos  y  narcoaviones  ni sus aliados sometidos a la dea  tienen moral para criticarnos   bolivia es libre  digna y soberana \n",
      "\n",
      "\n",
      "LR Prediction: Fake News \n",
      "DT Prediction: Fake News \n",
      "GBC Prediction: Fake News \n",
      "RFC Prediction: Fake News\n"
     ]
    }
   ],
   "source": [
    "try:\n",
    "    news = str(text_entry_var.get())\n",
    "    manual_testing(news)\n",
    "except:\n",
    "    news = str(input())\n",
    "    manual_testing(news)\n"
   ]
  },
  {
   "cell_type": "code",
   "execution_count": null,
   "id": "514d096a",
   "metadata": {},
   "outputs": [],
   "source": []
  },
  {
   "cell_type": "code",
   "execution_count": null,
   "id": "8f4713f3",
   "metadata": {},
   "outputs": [],
   "source": []
  }
 ],
 "metadata": {
  "kernelspec": {
   "display_name": "Python 3",
   "language": "python",
   "name": "python3"
  },
  "language_info": {
   "codemirror_mode": {
    "name": "ipython",
    "version": 3
   },
   "file_extension": ".py",
   "mimetype": "text/x-python",
   "name": "python",
   "nbconvert_exporter": "python",
   "pygments_lexer": "ipython3",
   "version": "3.6.13"
  }
 },
 "nbformat": 4,
 "nbformat_minor": 5
}
